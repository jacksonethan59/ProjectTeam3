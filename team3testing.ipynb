{
 "cells": [
  {
   "cell_type": "code",
   "execution_count": 21,
   "metadata": {},
   "outputs": [],
   "source": [
    "class Course(object):\n",
    "    def __init__(self, days, startTime, endTime):\n",
    "        self.days = days\n",
    "        self.startTime = startTime\n",
    "        self.endTime = endTime\n",
    "        # Note that the final version of this class will have other fields too.\n",
    "    def conflictsWith(self, course):\n",
    "        timeOverlap = False\n",
    "        dayOverlap = False\n",
    "        if ((self.startTime < course.startTime and self.endTime > course.startTime) \n",
    "            or (self.startTime > course.startTime and self.startTime < course.endTime) \n",
    "            or self.startTime == course.startTime or self.endTime == course.endTime):\n",
    "            timeOverlap = True\n",
    "        for day in self.days:\n",
    "            if (day in course.days): dayOverlap = True\n",
    "        if (timeOverlap and dayOverlap): return True\n",
    "        else: return False"
   ]
  },
  {
   "cell_type": "code",
   "execution_count": 22,
   "metadata": {},
   "outputs": [],
   "source": [
    "from datetime import datetime\n",
    "courseA = Course(['T','R'], datetime.strptime('10:00 AM',\"%I:%M %p\"), datetime.strptime('11:30 AM',\"%I:%M %p\"))\n",
    "courseB = Course(['R'], datetime.strptime('10:30 AM',\"%I:%M %p\"), datetime.strptime('12:30 PM',\"%I:%M %p\"))\n",
    "courseC = Course(['M','W','F'], datetime.strptime('10:00 AM',\"%I:%M %p\"), datetime.strptime('11:30 AM',\"%I:%M %p\"))"
   ]
  },
  {
   "cell_type": "code",
   "execution_count": 23,
   "metadata": {},
   "outputs": [
    {
     "data": {
      "text/plain": [
       "True"
      ]
     },
     "execution_count": 23,
     "metadata": {},
     "output_type": "execute_result"
    }
   ],
   "source": [
    "courseA.conflictsWith(courseB)"
   ]
  },
  {
   "cell_type": "code",
   "execution_count": 24,
   "metadata": {},
   "outputs": [
    {
     "data": {
      "text/plain": [
       "False"
      ]
     },
     "execution_count": 24,
     "metadata": {},
     "output_type": "execute_result"
    }
   ],
   "source": [
    "courseB.conflictsWith(courseC)"
   ]
  },
  {
   "cell_type": "code",
   "execution_count": 25,
   "metadata": {},
   "outputs": [
    {
     "data": {
      "text/plain": [
       "False"
      ]
     },
     "execution_count": 25,
     "metadata": {},
     "output_type": "execute_result"
    }
   ],
   "source": [
    "courseA.conflictsWith(courseC)"
   ]
  },
  {
   "cell_type": "code",
   "execution_count": 26,
   "metadata": {},
   "outputs": [
    {
     "data": {
      "text/plain": [
       "True"
      ]
     },
     "execution_count": 26,
     "metadata": {},
     "output_type": "execute_result"
    }
   ],
   "source": [
    "courseB.conflictsWith(courseA)"
   ]
  },
  {
   "cell_type": "code",
   "execution_count": null,
   "metadata": {},
   "outputs": [],
   "source": []
  }
 ],
 "metadata": {
  "kernelspec": {
   "display_name": "Python 3",
   "language": "python",
   "name": "python3"
  },
  "language_info": {
   "codemirror_mode": {
    "name": "ipython",
    "version": 3
   },
   "file_extension": ".py",
   "mimetype": "text/x-python",
   "name": "python",
   "nbconvert_exporter": "python",
   "pygments_lexer": "ipython3",
   "version": "3.7.3"
  }
 },
 "nbformat": 4,
 "nbformat_minor": 4
}
