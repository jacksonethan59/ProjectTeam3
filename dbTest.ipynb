{
 "cells": [
  {
   "cell_type": "code",
   "execution_count": 1,
   "metadata": {},
   "outputs": [
    {
     "name": "stdout",
     "output_type": "stream",
     "text": [
      "Requirement already satisfied: mysql-connector-python in c:\\users\\teddy\\anaconda3\\lib\\site-packages (8.0.28)\n",
      "Requirement already satisfied: protobuf>=3.0.0 in c:\\users\\teddy\\anaconda3\\lib\\site-packages (from mysql-connector-python) (3.19.4)\n",
      "Requirement already satisfied: pandas in c:\\users\\teddy\\anaconda3\\lib\\site-packages (0.24.2)\n",
      "Requirement already satisfied: pytz>=2011k in c:\\users\\teddy\\anaconda3\\lib\\site-packages (from pandas) (2019.1)\n",
      "Requirement already satisfied: python-dateutil>=2.5.0 in c:\\users\\teddy\\anaconda3\\lib\\site-packages (from pandas) (2.8.0)\n",
      "Requirement already satisfied: numpy>=1.12.0 in c:\\users\\teddy\\anaconda3\\lib\\site-packages (from pandas) (1.21.5)\n",
      "Requirement already satisfied: six>=1.5 in c:\\users\\teddy\\anaconda3\\lib\\site-packages (from python-dateutil>=2.5.0->pandas) (1.12.0)\n"
     ]
    }
   ],
   "source": [
    "!pip install mysql-connector-python\n",
    "!pip install pandas\n",
    "import mysql.connector\n",
    "from mysql.connector import Error\n",
    "import pandas as pd"
   ]
  },
  {
   "cell_type": "code",
   "execution_count": 2,
   "metadata": {},
   "outputs": [],
   "source": [
    "def create_server_connection(host_name, user_name, user_password):\n",
    "    connection = None\n",
    "    try:\n",
    "        connection = mysql.connector.connect(\n",
    "            host=host_name,\n",
    "            user=user_name,\n",
    "            passwd=user_password\n",
    "        )\n",
    "        print(\"MySQL Database connection successful\")\n",
    "    except Error as err:\n",
    "        print(f\"Error: '{err}'\")\n",
    "\n",
    "    return connection"
   ]
  },
  {
   "cell_type": "code",
   "execution_count": 3,
   "metadata": {},
   "outputs": [
    {
     "name": "stdout",
     "output_type": "stream",
     "text": [
      "MySQL Database connection successful\n"
     ]
    }
   ],
   "source": [
    "connection = create_server_connection(\"localhost\", \"root\", \"\")"
   ]
  },
  {
   "cell_type": "code",
   "execution_count": 4,
   "metadata": {},
   "outputs": [],
   "source": [
    "def create_database(connection, query):\n",
    "    cursor = connection.cursor()\n",
    "    try:\n",
    "        cursor.execute(query)\n",
    "        print(\"Database created successfully\")\n",
    "    except Error as err:\n",
    "        print(f\"Error: '{err}'\")"
   ]
  },
  {
   "cell_type": "code",
   "execution_count": 5,
   "metadata": {},
   "outputs": [],
   "source": [
    "def create_db_connection(host_name, user_name, user_password, db_name):\n",
    "    connection = None\n",
    "    try:\n",
    "        connection = mysql.connector.connect(\n",
    "            host=host_name,\n",
    "            user=user_name,\n",
    "            passwd=user_password,\n",
    "            database=db_name\n",
    "        )\n",
    "        print(\"MySQL Database connection successful\")\n",
    "    except Error as err:\n",
    "        print(f\"Error: '{err}'\")\n",
    "\n",
    "    return connection"
   ]
  },
  {
   "cell_type": "code",
   "execution_count": 6,
   "metadata": {},
   "outputs": [],
   "source": [
    "def execute_query(connection, query):\n",
    "    cursor = connection.cursor()\n",
    "    try:\n",
    "        cursor.execute(query)\n",
    "        connection.commit()\n",
    "        print(\"Query successful\")\n",
    "    except Error as err:\n",
    "        print(f\"Error: '{err}'\")"
   ]
  },
  {
   "cell_type": "code",
   "execution_count": 7,
   "metadata": {},
   "outputs": [
    {
     "name": "stdout",
     "output_type": "stream",
     "text": [
      "MySQL Database connection successful\n"
     ]
    }
   ],
   "source": [
    "conn1 = create_db_connection(\"localhost\", \"root\", \"\", \"schedmaster\")"
   ]
  },
  {
   "cell_type": "code",
   "execution_count": 8,
   "metadata": {},
   "outputs": [],
   "source": [
    "def read_query(connection, query):\n",
    "    cursor = connection.cursor()\n",
    "    result = None\n",
    "    try:\n",
    "        cursor.execute(query)\n",
    "        result = cursor.fetchall()\n",
    "        return result\n",
    "    except Error as err:\n",
    "        print(f\"Error: '{err}'\")"
   ]
  },
  {
   "cell_type": "code",
   "execution_count": 9,
   "metadata": {},
   "outputs": [
    {
     "name": "stdout",
     "output_type": "stream",
     "text": [
      "('aaa111', 'John', 'Doe', 'CPSC', 120)\n"
     ]
    }
   ],
   "source": [
    "q1 = \"\"\"\n",
    "SELECT *\n",
    "FROM students;\n",
    "\"\"\"\n",
    "results = read_query(conn1, q1)\n",
    "for result in results:\n",
    "  print(result)"
   ]
  },
  {
   "cell_type": "code",
   "execution_count": 10,
   "metadata": {},
   "outputs": [
    {
     "name": "stdout",
     "output_type": "stream",
     "text": [
      "aaa111\n"
     ]
    }
   ],
   "source": [
    "print(results[0][0])"
   ]
  },
  {
   "cell_type": "code",
   "execution_count": 11,
   "metadata": {},
   "outputs": [],
   "source": [
    "class Student(object):\n",
    "    def __init__(self, id, firstName, lastName, major, requiredHours):\n",
    "        self.id = id\n",
    "        self.firstName = firstName\n",
    "        self.lastName = lastName\n",
    "        self.major = major\n",
    "        self.requiredHours = requiredHours"
   ]
  },
  {
   "cell_type": "code",
   "execution_count": 12,
   "metadata": {},
   "outputs": [],
   "source": [
    "q2 = \"\"\"\n",
    "SELECT *\n",
    "FROM sections c;\"\"\""
   ]
  },
  {
   "cell_type": "code",
   "execution_count": 13,
   "metadata": {},
   "outputs": [],
   "source": [
    "sections = read_query(conn1, q2)"
   ]
  },
  {
   "cell_type": "code",
   "execution_count": 14,
   "metadata": {},
   "outputs": [],
   "source": [
    "class CourseSect(object):\n",
    "    def __init__(self, crn, courseId, sectNum, instructor, campus, location, startTime, endTime, startDate, endDate, days, cap, registered, attributes):\n",
    "        self.crn = crn\n",
    "        self.courseId = courseId\n",
    "        self.sectNum = sectNum\n",
    "        self.instructor = instructor\n",
    "        self.campus = campus\n",
    "        self.location = location\n",
    "        self.startTime = startTime\n",
    "        self.endTime = endTime\n",
    "        self.startDate = startDate\n",
    "        self.endDate = endDate\n",
    "        self.days = days\n",
    "        self.cap = cap\n",
    "        self.registered = registered\n",
    "        self.attributes = attributes\n",
    "    def conflictsWith(self, course):\n",
    "        if (self.startTime == None or course.startTime == None):\n",
    "            return False\n",
    "        else:\n",
    "            timeOverlap = False\n",
    "            dayOverlap = False\n",
    "            if ((self.startTime < course.startTime and self.endTime > course.startTime) \n",
    "                or (self.startTime > course.startTime and self.startTime < course.endTime) \n",
    "                or self.startTime == course.startTime or self.endTime == course.endTime):\n",
    "                timeOverlap = True\n",
    "            for day in self.days:\n",
    "                if (day in course.days): dayOverlap = True\n",
    "            if (timeOverlap and dayOverlap): return True\n",
    "            else: return False"
   ]
  },
  {
   "cell_type": "code",
   "execution_count": 15,
   "metadata": {},
   "outputs": [],
   "source": [
    "allSections = []\n",
    "for c in sections:\n",
    "    newCourse = CourseSect(c[0], c[1], c[2], c[3], c[4], c[5], c[6], c[7], c[8], c[9], c[10], c[11], c[12], c[13],)\n",
    "    allSections.append(newCourse)"
   ]
  },
  {
   "cell_type": "code",
   "execution_count": 16,
   "metadata": {},
   "outputs": [
    {
     "name": "stdout",
     "output_type": "stream",
     "text": [
      "(20003, 'ESC1100', 0, 'Colleen Katherine Mikelson', 'D', 'XX INTERNET', None, None, datetime.date(2022, 1, 10), datetime.date(2022, 5, 3), 'N/A', 50, 47, 'Beyond the Classroom and Lower Division Credit and Nat. Sciences Non-Lab Courses and Potential Test Proctoring Fee')\n",
      "(20004, 'ESC1500L', 0, 'Bradley Robert Reynolds', 'C', 'HOLT 225', datetime.timedelta(seconds=36000), datetime.timedelta(seconds=42600), datetime.date(2022, 1, 10), datetime.date(2022, 5, 3), 'M', 24, 24, 'Lab/Studio Fee and Lower Division Credit and Natural Science Lab Course')\n",
      "(20005, 'ESC1500L', 1, 'Bradley Robert Reynolds', 'C', 'HOLT 225', datetime.timedelta(seconds=56400), datetime.timedelta(seconds=63000), datetime.date(2022, 1, 10), datetime.date(2022, 5, 3), 'M', 24, 23, 'Lab/Studio Fee and Lower Division Credit and Natural Science Lab Course')\n",
      "(20006, 'ESC1500L', 2, 'Bradley Robert Reynolds', 'C', 'HOLT 225', datetime.timedelta(seconds=31800), datetime.timedelta(seconds=38400), datetime.date(2022, 1, 10), datetime.date(2022, 5, 3), 'T', 24, 22, 'Lab/Studio Fee and Lower Division Credit and Natural Science Lab Course')\n",
      "(20007, 'ESC1500L', 3, 'Bradley Robert Reynolds', 'C', 'HOLT 225', datetime.timedelta(seconds=39000), datetime.timedelta(seconds=45600), datetime.date(2022, 1, 10), datetime.date(2022, 5, 3), 'T', 24, 23, 'Lab/Studio Fee and Lower Division Credit and Natural Science Lab Course')\n",
      "(20008, 'ESC1500L', 4, 'Bradley Robert Reynolds', 'C', 'HOLT 225', datetime.timedelta(seconds=49200), datetime.timedelta(seconds=55800), datetime.date(2022, 1, 10), datetime.date(2022, 5, 3), 'T', 24, 23, 'Lab/Studio Fee and Lower Division Credit and Natural Science Lab Course')\n",
      "(20009, 'ESC1510', 0, 'Bradley Robert Reynolds', 'C', 'HOLT 229', datetime.timedelta(seconds=39600), datetime.timedelta(seconds=42600), datetime.date(2022, 1, 10), datetime.date(2022, 5, 3), 'MWF', 48, 39, 'Natural Science Lec & Lab and Lower Division Credit and Natural Science Lab Course')\n",
      "(20010, 'ESC1510L', 0, 'Bradley Robert Reynolds', 'C', 'HOLT 225', datetime.timedelta(seconds=46800), datetime.timedelta(seconds=53400), datetime.date(2022, 1, 10), datetime.date(2022, 5, 3), 'R', 24, 21, 'Lab/Studio Fee and Lower Division Credit and Natural Science Lab Course')\n",
      "(20011, 'ESC4100', 0, 'John C Tucker', 'C', 'EMCS 302', datetime.timedelta(seconds=33900), datetime.timedelta(seconds=38400), datetime.date(2022, 1, 10), datetime.date(2022, 5, 3), 'TR', 51, 51, 'Upper Division Credit')\n",
      "(20012, 'ESC4840', 0, 'Bradley Robert Reynolds', 'C', 'DRTH 101', datetime.timedelta(seconds=32400), datetime.timedelta(seconds=35400), datetime.date(2022, 1, 10), datetime.date(2022, 5, 3), 'MWF', 60, 34, 'Upper Division Credit')\n"
     ]
    }
   ],
   "source": [
    "for c in range(10):\n",
    "    print(sections[c])"
   ]
  },
  {
   "cell_type": "code",
   "execution_count": 17,
   "metadata": {},
   "outputs": [
    {
     "name": "stdout",
     "output_type": "stream",
     "text": [
      "None\n"
     ]
    }
   ],
   "source": [
    "print(allSections[0].startTime)"
   ]
  },
  {
   "cell_type": "code",
   "execution_count": 18,
   "metadata": {},
   "outputs": [
    {
     "data": {
      "text/plain": [
       "False"
      ]
     },
     "execution_count": 18,
     "metadata": {},
     "output_type": "execute_result"
    }
   ],
   "source": [
    "allSections[0].conflictsWith(allSections[1])"
   ]
  },
  {
   "cell_type": "code",
   "execution_count": 19,
   "metadata": {},
   "outputs": [
    {
     "data": {
      "text/plain": [
       "False"
      ]
     },
     "execution_count": 19,
     "metadata": {},
     "output_type": "execute_result"
    }
   ],
   "source": [
    "allSections[1].conflictsWith(allSections[0])"
   ]
  },
  {
   "cell_type": "code",
   "execution_count": 20,
   "metadata": {},
   "outputs": [
    {
     "data": {
      "text/plain": [
       "True"
      ]
     },
     "execution_count": 20,
     "metadata": {},
     "output_type": "execute_result"
    }
   ],
   "source": [
    "allSections[1].conflictsWith(allSections[6])"
   ]
  },
  {
   "cell_type": "code",
   "execution_count": 21,
   "metadata": {},
   "outputs": [
    {
     "data": {
      "text/plain": [
       "False"
      ]
     },
     "execution_count": 21,
     "metadata": {},
     "output_type": "execute_result"
    }
   ],
   "source": [
    "allSections[1].conflictsWith(allSections[2])"
   ]
  },
  {
   "cell_type": "code",
   "execution_count": 22,
   "metadata": {},
   "outputs": [
    {
     "data": {
      "text/plain": [
       "True"
      ]
     },
     "execution_count": 22,
     "metadata": {},
     "output_type": "execute_result"
    }
   ],
   "source": [
    "allSections[6].conflictsWith(allSections[1])"
   ]
  },
  {
   "cell_type": "code",
   "execution_count": 24,
   "metadata": {},
   "outputs": [],
   "source": [
    "def nonconflicting(studCourses, allCourses):\n",
    "    conf = []\n",
    "    nonconf = []\n",
    "    for course1 in studCourses:\n",
    "        for course2 in allCourses:\n",
    "            if (course1.conflictsWith(course2)):\n",
    "                if course2 not in conf:\n",
    "                    conf.append(course2)\n",
    "    for course in allCourses:\n",
    "        if course not in conf:\n",
    "            nonconf.append(course)\n",
    "    return nonconf"
   ]
  },
  {
   "cell_type": "code",
   "execution_count": 25,
   "metadata": {},
   "outputs": [],
   "source": [
    "courseA = allSections[0]\n",
    "courseB = allSections[2]\n",
    "studCourses = [courseA, courseB]\n",
    "testCourses = allSections[:10]\n",
    "nonconf = nonconflicting(studCourses, testCourses)"
   ]
  },
  {
   "cell_type": "code",
   "execution_count": 26,
   "metadata": {},
   "outputs": [
    {
     "name": "stdout",
     "output_type": "stream",
     "text": [
      "None, None, N/A\n",
      "10:00:00, 11:50:00, M\n",
      "8:50:00, 10:40:00, T\n",
      "10:50:00, 12:40:00, T\n",
      "13:40:00, 15:30:00, T\n",
      "11:00:00, 11:50:00, MWF\n",
      "13:00:00, 14:50:00, R\n",
      "9:25:00, 10:40:00, TR\n",
      "9:00:00, 9:50:00, MWF\n"
     ]
    }
   ],
   "source": [
    "for c in nonconf:\n",
    "    print(str(c.startTime) + ', ' + str(c.endTime) + ', ' + c.days)"
   ]
  },
  {
   "cell_type": "code",
   "execution_count": 27,
   "metadata": {},
   "outputs": [
    {
     "name": "stdout",
     "output_type": "stream",
     "text": [
      "None, None, N/A\n",
      "15:40:00, 17:30:00, M\n"
     ]
    }
   ],
   "source": [
    "for c in studCourses:\n",
    "    print(str(c.startTime) + ', ' + str(c.endTime) + ', ' + c.days)"
   ]
  },
  {
   "cell_type": "code",
   "execution_count": 28,
   "metadata": {},
   "outputs": [],
   "source": [
    "from_db = []\n",
    "for c in nonconf:\n",
    "    x = (c.crn, c.courseId, c.sectNum, c.startTime, c.endTime, c.days)\n",
    "    from_db.append(x)\n",
    "columns = [\"CRN\", \"ID\", \"Section #\", \"Start Time\", \"End Time\", \"Days\"]\n",
    "df = pd.DataFrame(from_db, columns=columns)"
   ]
  },
  {
   "cell_type": "code",
   "execution_count": 29,
   "metadata": {},
   "outputs": [
    {
     "data": {
      "text/html": [
       "<div>\n",
       "<style scoped>\n",
       "    .dataframe tbody tr th:only-of-type {\n",
       "        vertical-align: middle;\n",
       "    }\n",
       "\n",
       "    .dataframe tbody tr th {\n",
       "        vertical-align: top;\n",
       "    }\n",
       "\n",
       "    .dataframe thead th {\n",
       "        text-align: right;\n",
       "    }\n",
       "</style>\n",
       "<table border=\"1\" class=\"dataframe\">\n",
       "  <thead>\n",
       "    <tr style=\"text-align: right;\">\n",
       "      <th></th>\n",
       "      <th>CRN</th>\n",
       "      <th>ID</th>\n",
       "      <th>Section #</th>\n",
       "      <th>Start Time</th>\n",
       "      <th>End Time</th>\n",
       "      <th>Days</th>\n",
       "    </tr>\n",
       "  </thead>\n",
       "  <tbody>\n",
       "    <tr>\n",
       "      <th>0</th>\n",
       "      <td>20003</td>\n",
       "      <td>ESC1100</td>\n",
       "      <td>0</td>\n",
       "      <td>NaT</td>\n",
       "      <td>NaT</td>\n",
       "      <td>N/A</td>\n",
       "    </tr>\n",
       "    <tr>\n",
       "      <th>1</th>\n",
       "      <td>20004</td>\n",
       "      <td>ESC1500L</td>\n",
       "      <td>0</td>\n",
       "      <td>10:00:00</td>\n",
       "      <td>11:50:00</td>\n",
       "      <td>M</td>\n",
       "    </tr>\n",
       "    <tr>\n",
       "      <th>2</th>\n",
       "      <td>20006</td>\n",
       "      <td>ESC1500L</td>\n",
       "      <td>2</td>\n",
       "      <td>08:50:00</td>\n",
       "      <td>10:40:00</td>\n",
       "      <td>T</td>\n",
       "    </tr>\n",
       "    <tr>\n",
       "      <th>3</th>\n",
       "      <td>20007</td>\n",
       "      <td>ESC1500L</td>\n",
       "      <td>3</td>\n",
       "      <td>10:50:00</td>\n",
       "      <td>12:40:00</td>\n",
       "      <td>T</td>\n",
       "    </tr>\n",
       "    <tr>\n",
       "      <th>4</th>\n",
       "      <td>20008</td>\n",
       "      <td>ESC1500L</td>\n",
       "      <td>4</td>\n",
       "      <td>13:40:00</td>\n",
       "      <td>15:30:00</td>\n",
       "      <td>T</td>\n",
       "    </tr>\n",
       "    <tr>\n",
       "      <th>5</th>\n",
       "      <td>20009</td>\n",
       "      <td>ESC1510</td>\n",
       "      <td>0</td>\n",
       "      <td>11:00:00</td>\n",
       "      <td>11:50:00</td>\n",
       "      <td>MWF</td>\n",
       "    </tr>\n",
       "    <tr>\n",
       "      <th>6</th>\n",
       "      <td>20010</td>\n",
       "      <td>ESC1510L</td>\n",
       "      <td>0</td>\n",
       "      <td>13:00:00</td>\n",
       "      <td>14:50:00</td>\n",
       "      <td>R</td>\n",
       "    </tr>\n",
       "    <tr>\n",
       "      <th>7</th>\n",
       "      <td>20011</td>\n",
       "      <td>ESC4100</td>\n",
       "      <td>0</td>\n",
       "      <td>09:25:00</td>\n",
       "      <td>10:40:00</td>\n",
       "      <td>TR</td>\n",
       "    </tr>\n",
       "    <tr>\n",
       "      <th>8</th>\n",
       "      <td>20012</td>\n",
       "      <td>ESC4840</td>\n",
       "      <td>0</td>\n",
       "      <td>09:00:00</td>\n",
       "      <td>09:50:00</td>\n",
       "      <td>MWF</td>\n",
       "    </tr>\n",
       "  </tbody>\n",
       "</table>\n",
       "</div>"
      ],
      "text/plain": [
       "     CRN        ID  Section # Start Time End Time Days\n",
       "0  20003   ESC1100          0        NaT      NaT  N/A\n",
       "1  20004  ESC1500L          0   10:00:00 11:50:00    M\n",
       "2  20006  ESC1500L          2   08:50:00 10:40:00    T\n",
       "3  20007  ESC1500L          3   10:50:00 12:40:00    T\n",
       "4  20008  ESC1500L          4   13:40:00 15:30:00    T\n",
       "5  20009   ESC1510          0   11:00:00 11:50:00  MWF\n",
       "6  20010  ESC1510L          0   13:00:00 14:50:00    R\n",
       "7  20011   ESC4100          0   09:25:00 10:40:00   TR\n",
       "8  20012   ESC4840          0   09:00:00 09:50:00  MWF"
      ]
     },
     "metadata": {},
     "output_type": "display_data"
    }
   ],
   "source": [
    "display(df)"
   ]
  },
  {
   "cell_type": "code",
   "execution_count": null,
   "metadata": {},
   "outputs": [],
   "source": []
  }
 ],
 "metadata": {
  "kernelspec": {
   "display_name": "Python 3",
   "language": "python",
   "name": "python3"
  },
  "language_info": {
   "codemirror_mode": {
    "name": "ipython",
    "version": 3
   },
   "file_extension": ".py",
   "mimetype": "text/x-python",
   "name": "python",
   "nbconvert_exporter": "python",
   "pygments_lexer": "ipython3",
   "version": "3.7.3"
  }
 },
 "nbformat": 4,
 "nbformat_minor": 4
}
