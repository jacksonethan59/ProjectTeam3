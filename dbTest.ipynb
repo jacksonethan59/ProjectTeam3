{
 "cells": [
  {
   "cell_type": "code",
   "execution_count": 2,
   "metadata": {},
   "outputs": [
    {
     "name": "stdout",
     "output_type": "stream",
     "text": [
      "Collecting mysql-connector-python\n",
      "  Downloading https://files.pythonhosted.org/packages/fc/64/81426980467699e95bb4b9d56d6c5747e7e808cbb06b6c75962b54fbf75f/mysql_connector_python-8.0.28-cp37-cp37m-win_amd64.whl (7.2MB)\n",
      "Requirement already satisfied: protobuf>=3.0.0 in c:\\users\\teddy\\anaconda3\\lib\\site-packages (from mysql-connector-python) (3.19.4)\n",
      "Installing collected packages: mysql-connector-python\n",
      "Successfully installed mysql-connector-python-8.0.28\n",
      "Requirement already satisfied: pandas in c:\\users\\teddy\\anaconda3\\lib\\site-packages (0.24.2)\n",
      "Requirement already satisfied: pytz>=2011k in c:\\users\\teddy\\anaconda3\\lib\\site-packages (from pandas) (2019.1)\n",
      "Requirement already satisfied: numpy>=1.12.0 in c:\\users\\teddy\\anaconda3\\lib\\site-packages (from pandas) (1.21.5)\n",
      "Requirement already satisfied: python-dateutil>=2.5.0 in c:\\users\\teddy\\anaconda3\\lib\\site-packages (from pandas) (2.8.0)\n",
      "Requirement already satisfied: six>=1.5 in c:\\users\\teddy\\anaconda3\\lib\\site-packages (from python-dateutil>=2.5.0->pandas) (1.12.0)\n"
     ]
    }
   ],
   "source": [
    "!pip install mysql-connector-python\n",
    "!pip install pandas\n",
    "import mysql.connector\n",
    "from mysql.connector import Error\n",
    "import pandas as pd"
   ]
  },
  {
   "cell_type": "code",
   "execution_count": 3,
   "metadata": {},
   "outputs": [],
   "source": [
    "def create_server_connection(host_name, user_name, user_password):\n",
    "    connection = None\n",
    "    try:\n",
    "        connection = mysql.connector.connect(\n",
    "            host=host_name,\n",
    "            user=user_name,\n",
    "            passwd=user_password\n",
    "        )\n",
    "        print(\"MySQL Database connection successful\")\n",
    "    except Error as err:\n",
    "        print(f\"Error: '{err}'\")\n",
    "\n",
    "    return connection"
   ]
  },
  {
   "cell_type": "code",
   "execution_count": 4,
   "metadata": {},
   "outputs": [
    {
     "name": "stdout",
     "output_type": "stream",
     "text": [
      "MySQL Database connection successful\n"
     ]
    }
   ],
   "source": [
    "connection = create_server_connection(\"localhost\", \"root\", \"\")"
   ]
  },
  {
   "cell_type": "code",
   "execution_count": 5,
   "metadata": {},
   "outputs": [],
   "source": [
    "def create_database(connection, query):\n",
    "    cursor = connection.cursor()\n",
    "    try:\n",
    "        cursor.execute(query)\n",
    "        print(\"Database created successfully\")\n",
    "    except Error as err:\n",
    "        print(f\"Error: '{err}'\")"
   ]
  },
  {
   "cell_type": "code",
   "execution_count": 6,
   "metadata": {},
   "outputs": [],
   "source": [
    "def create_db_connection(host_name, user_name, user_password, db_name):\n",
    "    connection = None\n",
    "    try:\n",
    "        connection = mysql.connector.connect(\n",
    "            host=host_name,\n",
    "            user=user_name,\n",
    "            passwd=user_password,\n",
    "            database=db_name\n",
    "        )\n",
    "        print(\"MySQL Database connection successful\")\n",
    "    except Error as err:\n",
    "        print(f\"Error: '{err}'\")\n",
    "\n",
    "    return connection"
   ]
  },
  {
   "cell_type": "code",
   "execution_count": 7,
   "metadata": {},
   "outputs": [],
   "source": [
    "def execute_query(connection, query):\n",
    "    cursor = connection.cursor()\n",
    "    try:\n",
    "        cursor.execute(query)\n",
    "        connection.commit()\n",
    "        print(\"Query successful\")\n",
    "    except Error as err:\n",
    "        print(f\"Error: '{err}'\")"
   ]
  },
  {
   "cell_type": "code",
   "execution_count": 8,
   "metadata": {},
   "outputs": [
    {
     "name": "stdout",
     "output_type": "stream",
     "text": [
      "MySQL Database connection successful\n"
     ]
    }
   ],
   "source": [
    "conn1 = create_db_connection(\"localhost\", \"root\", \"\", \"schedmaster\")"
   ]
  },
  {
   "cell_type": "code",
   "execution_count": 9,
   "metadata": {},
   "outputs": [],
   "source": [
    "def read_query(connection, query):\n",
    "    cursor = connection.cursor()\n",
    "    result = None\n",
    "    try:\n",
    "        cursor.execute(query)\n",
    "        result = cursor.fetchall()\n",
    "        return result\n",
    "    except Error as err:\n",
    "        print(f\"Error: '{err}'\")"
   ]
  },
  {
   "cell_type": "code",
   "execution_count": 10,
   "metadata": {},
   "outputs": [
    {
     "name": "stdout",
     "output_type": "stream",
     "text": [
      "('aaa111', 'John', 'Doe', 'CPSC', 120)\n"
     ]
    }
   ],
   "source": [
    "q1 = \"\"\"\n",
    "SELECT *\n",
    "FROM students;\n",
    "\"\"\"\n",
    "results = read_query(conn1, q1)\n",
    "for result in results:\n",
    "  print(result)"
   ]
  },
  {
   "cell_type": "code",
   "execution_count": 12,
   "metadata": {},
   "outputs": [
    {
     "name": "stdout",
     "output_type": "stream",
     "text": [
      "aaa111\n"
     ]
    }
   ],
   "source": [
    "print(results[0][0])"
   ]
  },
  {
   "cell_type": "code",
   "execution_count": 15,
   "metadata": {},
   "outputs": [],
   "source": [
    "class Student(object):\n",
    "    def __init__(self, id, firstName, lastName, major, requiredHours):\n",
    "        self.id = id\n",
    "        self.firstName = firstName\n",
    "        self.lastName = lastName\n",
    "        self.major = major\n",
    "        self.requiredHours = requiredHours"
   ]
  },
  {
   "cell_type": "code",
   "execution_count": 17,
   "metadata": {},
   "outputs": [],
   "source": [
    "jimmy = Student('abc123', 'Jimmy', 'Mife', 'CPSC', 120)"
   ]
  },
  {
   "cell_type": "code",
   "execution_count": 23,
   "metadata": {},
   "outputs": [],
   "source": [
    "q2 = \"\"\"\n",
    "SELECT c.meeting_time_start, c.meeting_time_end, c.days\n",
    "FROM sections c;\"\"\""
   ]
  },
  {
   "cell_type": "code",
   "execution_count": 29,
   "metadata": {},
   "outputs": [],
   "source": [
    "courses = read_query(conn1, q2)"
   ]
  },
  {
   "cell_type": "code",
   "execution_count": 30,
   "metadata": {},
   "outputs": [
    {
     "data": {
      "text/plain": [
       "True"
      ]
     },
     "execution_count": 30,
     "metadata": {},
     "output_type": "execute_result"
    }
   ],
   "source": [
    "import datetime\n",
    "datetime.timedelta(seconds=36000) < datetime.timedelta(seconds=48000)"
   ]
  },
  {
   "cell_type": "code",
   "execution_count": 31,
   "metadata": {},
   "outputs": [],
   "source": [
    "class Course(object):\n",
    "    def __init__(self, startTime, endTime, days):\n",
    "        self.days = days\n",
    "        self.startTime = startTime\n",
    "        self.endTime = endTime\n",
    "        # Note that the final version of this class will have other fields too.\n",
    "    def conflictsWith(self, course):\n",
    "        timeOverlap = False\n",
    "        dayOverlap = False\n",
    "        if ((self.startTime < course.startTime and self.endTime > course.startTime) \n",
    "            or (self.startTime > course.startTime and self.startTime < course.endTime) \n",
    "            or self.startTime == course.startTime or self.endTime == course.endTime):\n",
    "            timeOverlap = True\n",
    "        for day in self.days:\n",
    "            if (day in course.days): dayOverlap = True\n",
    "        if (timeOverlap and dayOverlap): return True\n",
    "        else: return False"
   ]
  },
  {
   "cell_type": "code",
   "execution_count": 41,
   "metadata": {},
   "outputs": [
    {
     "name": "stdout",
     "output_type": "stream",
     "text": [
      "(None, None, 'N/A')\n",
      "(datetime.timedelta(seconds=36000), datetime.timedelta(seconds=42600), 'M')\n",
      "(datetime.timedelta(seconds=56400), datetime.timedelta(seconds=63000), 'M')\n",
      "(datetime.timedelta(seconds=31800), datetime.timedelta(seconds=38400), 'T')\n",
      "(datetime.timedelta(seconds=39000), datetime.timedelta(seconds=45600), 'T')\n",
      "(datetime.timedelta(seconds=49200), datetime.timedelta(seconds=55800), 'T')\n",
      "(datetime.timedelta(seconds=39600), datetime.timedelta(seconds=42600), 'MWF')\n",
      "(datetime.timedelta(seconds=46800), datetime.timedelta(seconds=53400), 'R')\n",
      "(datetime.timedelta(seconds=33900), datetime.timedelta(seconds=38400), 'TR')\n",
      "(datetime.timedelta(seconds=32400), datetime.timedelta(seconds=35400), 'MWF')\n"
     ]
    }
   ],
   "source": [
    "for c in range(10):\n",
    "    print(courses[c])"
   ]
  },
  {
   "cell_type": "code",
   "execution_count": 65,
   "metadata": {},
   "outputs": [],
   "source": [
    "allCourses = []\n",
    "for c in courses:\n",
    "    if c[0] != None:\n",
    "        newCourse = Course(c[0], c[1], c[2])\n",
    "        allCourses.append(newCourse)"
   ]
  },
  {
   "cell_type": "code",
   "execution_count": 66,
   "metadata": {},
   "outputs": [
    {
     "data": {
      "text/plain": [
       "<__main__.Course at 0x18bdf6d9e10>"
      ]
     },
     "execution_count": 66,
     "metadata": {},
     "output_type": "execute_result"
    }
   ],
   "source": [
    "allCourses[1]"
   ]
  },
  {
   "cell_type": "code",
   "execution_count": 67,
   "metadata": {},
   "outputs": [
    {
     "data": {
      "text/plain": [
       "datetime.timedelta(seconds=56400)"
      ]
     },
     "execution_count": 67,
     "metadata": {},
     "output_type": "execute_result"
    }
   ],
   "source": [
    "allCourses[1].startTime"
   ]
  },
  {
   "cell_type": "code",
   "execution_count": 69,
   "metadata": {},
   "outputs": [
    {
     "data": {
      "text/plain": [
       "'M'"
      ]
     },
     "execution_count": 69,
     "metadata": {},
     "output_type": "execute_result"
    }
   ],
   "source": [
    "allCourses[0].days"
   ]
  },
  {
   "cell_type": "code",
   "execution_count": 70,
   "metadata": {},
   "outputs": [
    {
     "data": {
      "text/plain": [
       "False"
      ]
     },
     "execution_count": 70,
     "metadata": {},
     "output_type": "execute_result"
    }
   ],
   "source": [
    "allCourses[0].conflictsWith(allCourses[1])"
   ]
  },
  {
   "cell_type": "code",
   "execution_count": 71,
   "metadata": {},
   "outputs": [
    {
     "data": {
      "text/plain": [
       "True"
      ]
     },
     "execution_count": 71,
     "metadata": {},
     "output_type": "execute_result"
    }
   ],
   "source": [
    "allCourses[0].conflictsWith(allCourses[5])"
   ]
  },
  {
   "cell_type": "code",
   "execution_count": 72,
   "metadata": {},
   "outputs": [],
   "source": [
    "def nonconflicting(studCourses, allCourses):\n",
    "    conf = []\n",
    "    nonconf = []\n",
    "    for course1 in studCourses:\n",
    "        for course2 in allCourses:\n",
    "            if (course1.conflictsWith(course2)):\n",
    "                if course2 not in conf:\n",
    "                    conf.append(course2)\n",
    "    for course in allCourses:\n",
    "        if course not in conf:\n",
    "            nonconf.append(course)\n",
    "    return nonconf"
   ]
  },
  {
   "cell_type": "code",
   "execution_count": 73,
   "metadata": {},
   "outputs": [],
   "source": [
    "courseA = allCourses[0]\n",
    "courseB = allCourses[2]\n",
    "studCourses = [courseA, courseB]\n",
    "testCourses = allCourses[:10]\n",
    "nonconf = nonconflicting(studCourses, testCourses)"
   ]
  },
  {
   "cell_type": "code",
   "execution_count": 78,
   "metadata": {},
   "outputs": [
    {
     "name": "stdout",
     "output_type": "stream",
     "text": [
      "15:40:00, 17:30:00, M\n",
      "10:50:00, 12:40:00, T\n",
      "13:40:00, 15:30:00, T\n",
      "13:00:00, 14:50:00, R\n",
      "9:00:00, 9:50:00, MWF\n",
      "18:00:00, 20:30:00, M\n"
     ]
    }
   ],
   "source": [
    "for c in nonconf:\n",
    "    print(str(c.startTime) + ', ' + str(c.endTime) + ', ' + c.days)"
   ]
  },
  {
   "cell_type": "code",
   "execution_count": 79,
   "metadata": {},
   "outputs": [
    {
     "name": "stdout",
     "output_type": "stream",
     "text": [
      "10:00:00, 11:50:00, M\n",
      "8:50:00, 10:40:00, T\n"
     ]
    }
   ],
   "source": [
    "print(str(courseA.startTime) + ', ' + str(courseA.endTime) + ', ' + courseA.days)\n",
    "print(str(courseB.startTime) + ', ' + str(courseB.endTime) + ', ' + courseB.days)"
   ]
  },
  {
   "cell_type": "code",
   "execution_count": null,
   "metadata": {},
   "outputs": [],
   "source": []
  }
 ],
 "metadata": {
  "kernelspec": {
   "display_name": "Python 3",
   "language": "python",
   "name": "python3"
  },
  "language_info": {
   "codemirror_mode": {
    "name": "ipython",
    "version": 3
   },
   "file_extension": ".py",
   "mimetype": "text/x-python",
   "name": "python",
   "nbconvert_exporter": "python",
   "pygments_lexer": "ipython3",
   "version": "3.7.3"
  }
 },
 "nbformat": 4,
 "nbformat_minor": 4
}
